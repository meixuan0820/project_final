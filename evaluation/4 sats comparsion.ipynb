{
 "cells": [
  {
   "cell_type": "code",
   "execution_count": 1,
   "id": "f2eea8ff",
   "metadata": {},
   "outputs": [],
   "source": [
    "import pickle"
   ]
  },
  {
   "cell_type": "code",
   "execution_count": 2,
   "id": "3c6e9ad6",
   "metadata": {},
   "outputs": [],
   "source": [
    "with open('/project_final/orbitals.pkl', 'rb') as f:\n",
    "    orbitals = pickle.load(f)\n",
    "\n",
    "with open('/project_final/maneuvers.pkl', 'rb') as f:\n",
    "    maneuvers = pickle.load(f)"
   ]
  },
  {
   "cell_type": "code",
   "execution_count": 3,
   "id": "338fdd86",
   "metadata": {},
   "outputs": [],
   "source": [
    "man_s3a = maneuvers['s3a']\n",
    "man_fy2d = maneuvers['FY2D']\n",
    "man_saral = maneuvers['srl']"
   ]
  },
  {
   "cell_type": "code",
   "execution_count": 4,
   "id": "a034729d",
   "metadata": {},
   "outputs": [],
   "source": [
    "import pandas as pd\n",
    "import numpy as np\n",
    "import matplotlib.pyplot as plt"
   ]
  },
  {
   "cell_type": "code",
   "execution_count": 5,
   "id": "04e8369e",
   "metadata": {},
   "outputs": [],
   "source": [
    "baseline_s3a_df = pd.read_csv(\"/project_final/result/s3a_baseline_residuals.csv\", parse_dates=[\"date\"])\n",
    "arima_s3a_df = pd.read_csv(\"/project_final/result/s3a_arima_residuals.csv\", parse_dates=[\"date\"])\n",
    "xgb_diff_s3a_df = pd.read_csv(\"/project_final/result/s3a_xgb_residuals_diff.csv\", parse_dates=[\"day_time\"])\n",
    "lstm_s3a_df = pd.read_csv(\"/project_final/result/s3a_lstm_residuals.csv\", parse_dates=[\"day_time\"])\n",
    "\n",
    "baseline_fy2d_df = pd.read_csv(\"/project_final/result/fy2d_baseline_residuals.csv\", parse_dates=[\"date\"])\n",
    "arima_fy2d_df = pd.read_csv(\"/project_final/result/fy2d_arima_residuals.csv\", parse_dates=[\"date\"])\n",
    "xgb_diff_fy2d_df = pd.read_csv(\"/project_final/result/fy2d_xgb_residuals_diff.csv\", parse_dates=[\"day_time\"])\n",
    "lstm_fy2d_df = pd.read_csv(\"/project_final/result/fy2d_lstm_residuals.csv\", parse_dates=[\"day_time\"])\n",
    "\n",
    "baseline_saral_df = pd.read_csv(\"/project_final/result/saral_baseline_residuals.csv\", parse_dates=[\"date\"])\n",
    "arima_saral_df = pd.read_csv(\"/project_final/result/saral_arima_residuals.csv\", parse_dates=[\"date\"])\n",
    "xgb_diff_saral_df = pd.read_csv(\"/project_final/result/saral_xgb_residuals_diff.csv\", parse_dates=[\"day_time\"])\n",
    "lstm_saral_df = pd.read_csv(\"/project_final/result/saral_lstm_residuals.csv\", parse_dates=[\"day_time\"])"
   ]
  },
  {
   "cell_type": "code",
   "execution_count": 6,
   "id": "ddf6818a",
   "metadata": {},
   "outputs": [],
   "source": [
    "xgb_diff_s3a_df.rename(columns={\"day_time\": \"date\"}, inplace=True)\n",
    "xgb_diff_fy2d_df.rename(columns={\"day_time\": \"date\"}, inplace=True)\n",
    "xgb_diff_saral_df.rename(columns={\"day_time\": \"date\"}, inplace=True)\n",
    "lstm_s3a_df.rename(columns={\"day_time\": \"date\"}, inplace=True)\n",
    "lstm_fy2d_df.rename(columns={\"day_time\": \"date\"}, inplace=True)\n",
    "lstm_saral_df.rename(columns={\"day_time\": \"date\"}, inplace=True)"
   ]
  },
  {
   "cell_type": "code",
   "execution_count": 7,
   "id": "44a43566",
   "metadata": {},
   "outputs": [],
   "source": [
    "baseline_s3a_df.drop(columns=['actual','fitted'],inplace=True)\n",
    "arima_s3a_df.drop(columns=['actual','fitted'],inplace=True)\n",
    "xgb_diff_s3a_df.drop(columns=['actual','pred'],inplace=True)\n",
    "lstm_s3a_df.drop(columns=['actual', 'pred'],inplace=True)\n",
    "\n",
    "baseline_fy2d_df.drop(columns=['actual','fitted'],inplace=True)\n",
    "arima_fy2d_df.drop(columns=['actual','fitted'],inplace=True)\n",
    "xgb_diff_fy2d_df.drop(columns=['actual','pred'],inplace=True)\n",
    "lstm_fy2d_df.drop(columns=['actual', 'pred'],inplace=True)\n",
    "\n",
    "baseline_saral_df.drop(columns=['actual','fitted'],inplace=True)\n",
    "arima_saral_df.drop(columns=['actual','fitted'],inplace=True)\n",
    "xgb_diff_saral_df.drop(columns=['actual','pred'],inplace=True)\n",
    "lstm_saral_df.drop(columns=['actual', 'pred'],inplace=True)"
   ]
  },
  {
   "cell_type": "code",
   "execution_count": 8,
   "id": "a47c8b4d",
   "metadata": {},
   "outputs": [],
   "source": [
    "def align_to_reference_dates(\n",
    "    ref_df,\n",
    "    *other_dfs,\n",
    "    date_col=\"date\",\n",
    "    strict=True,\n",
    "    abs_residual=True\n",
    "):\n",
    "\n",
    "    ref = ref_df.copy()\n",
    "    ref[date_col] = pd.to_datetime(ref[date_col], errors=\"coerce\")\n",
    "    ref = ref.dropna(subset=[date_col]).sort_values(date_col)\n",
    "\n",
    "    start, end = ref[date_col].min(), ref[date_col].max()\n",
    "    ref_dates = pd.DatetimeIndex(ref[date_col].unique()) if strict else None\n",
    "\n",
    "    aligned_list = []\n",
    "\n",
    "    def _post_process(df):\n",
    "        \n",
    "        if abs_residual and \"residual\" in df.columns:\n",
    "            df[\"residual\"] = df[\"residual\"].abs()\n",
    "        \n",
    "        df = df.sort_values(date_col).reset_index(drop=True)\n",
    "        # df[date_col] = df[date_col].dt.strftime(fmt)\n",
    "        return df\n",
    "\n",
    "    # \n",
    "    for df in other_dfs:\n",
    "        d = df.copy()\n",
    "        d[date_col] = pd.to_datetime(d[date_col], errors=\"coerce\")\n",
    "        d = d.dropna(subset=[date_col])\n",
    "\n",
    "        if strict:\n",
    "            # \n",
    "            d = d[d[date_col].isin(ref_dates)]\n",
    "        else:\n",
    "            # \n",
    "            d = d[(d[date_col] >= start) & (d[date_col] <= end)]\n",
    "\n",
    "        aligned_list.append(_post_process(d))\n",
    "\n",
    "    # \n",
    "    ref_out = ref.copy()\n",
    "    if abs_residual and \"residual\" in ref_out.columns:\n",
    "        ref_out[\"residual\"] = ref_out[\"residual\"].abs()\n",
    "    ref_out = ref_out.sort_values(date_col).reset_index(drop=True)\n",
    "\n",
    "    return (ref_out, *aligned_list)"
   ]
  },
  {
   "cell_type": "code",
   "execution_count": 9,
   "id": "dabdae93",
   "metadata": {},
   "outputs": [
    {
     "name": "stdout",
     "output_type": "stream",
     "text": [
      "        date  residual\n",
      "0 2016-03-04  0.000062 \n",
      "         date      residual\n",
      "0 2016-03-04 -7.399500e-08 \n",
      "         date  residual\n",
      "0 2016-03-12 -0.082285 \n",
      "         date  residual\n",
      "0 2016-03-09  0.155023\n"
     ]
    }
   ],
   "source": [
    "print(baseline_s3a_df.head(1), \"\\n\", arima_s3a_df.head(1), \"\\n\", xgb_diff_s3a_df.head(1), \"\\n\", lstm_s3a_df.head(1))"
   ]
  },
  {
   "cell_type": "code",
   "execution_count": 10,
   "id": "4975eb0d",
   "metadata": {},
   "outputs": [],
   "source": [
    "xgb_diff_s3a_aligned, lstm_s3a_aligned, arima_s3a_aligned, baseline_s3a_aligned = align_to_reference_dates(\n",
    "    xgb_diff_s3a_df, lstm_s3a_df, arima_s3a_df, baseline_s3a_df,\n",
    "    date_col=\"date\", strict=True, abs_residual=True\n",
    ")"
   ]
  },
  {
   "cell_type": "code",
   "execution_count": 11,
   "id": "66e55f2d",
   "metadata": {},
   "outputs": [
    {
     "name": "stdout",
     "output_type": "stream",
     "text": [
      "        date      residual\n",
      "0 2016-03-12  4.788452e-08 \n",
      "         date      residual\n",
      "0 2016-03-12  3.894827e-08 \n",
      "         date  residual\n",
      "0 2016-03-12  0.082285 \n",
      "         date  residual\n",
      "0 2016-03-12  0.079569\n"
     ]
    }
   ],
   "source": [
    "print(baseline_s3a_aligned.head(1), \"\\n\", arima_s3a_aligned.head(1), \"\\n\", xgb_diff_s3a_aligned.head(1), \"\\n\", lstm_s3a_aligned.head(1))"
   ]
  },
  {
   "cell_type": "code",
   "execution_count": 12,
   "id": "3d22280f",
   "metadata": {},
   "outputs": [
    {
     "name": "stdout",
     "output_type": "stream",
     "text": [
      "        date  residual\n",
      "0 2011-01-27  0.000004 \n",
      "         date      residual\n",
      "0 2011-01-27  1.000031e-07 \n",
      "         date  residual\n",
      "0 2011-02-01  0.141243 \n",
      "         date  residual\n",
      "0 2011-01-30 -0.072843\n"
     ]
    }
   ],
   "source": [
    "print(baseline_fy2d_df.head(1), \"\\n\", arima_fy2d_df.head(1), \"\\n\", xgb_diff_fy2d_df.head(1), \"\\n\", lstm_fy2d_df.head(1))"
   ]
  },
  {
   "cell_type": "code",
   "execution_count": 13,
   "id": "586f7a9e",
   "metadata": {},
   "outputs": [],
   "source": [
    "xgb_diff_fy2d_aligned, lstm_fy2d_aligned, arima_fy2d_aligned, baseline_fy2d_aligned = align_to_reference_dates(\n",
    "    xgb_diff_fy2d_df, lstm_fy2d_df, arima_fy2d_df, baseline_fy2d_df,\n",
    "    date_col=\"date\", strict=True, abs_residual=True\n",
    ")"
   ]
  },
  {
   "cell_type": "code",
   "execution_count": 14,
   "id": "0603ecb5",
   "metadata": {},
   "outputs": [
    {
     "name": "stdout",
     "output_type": "stream",
     "text": [
      "        date      residual\n",
      "0 2011-02-01  5.920002e-08 \n",
      "         date      residual\n",
      "0 2011-02-01  6.688166e-08 \n",
      "         date  residual\n",
      "0 2011-02-01  0.141243 \n",
      "         date  residual\n",
      "0 2011-02-01  0.081596\n"
     ]
    }
   ],
   "source": [
    "print(baseline_fy2d_aligned.head(1), \"\\n\", arima_fy2d_aligned.head(1), \"\\n\", xgb_diff_fy2d_aligned.head(1), \"\\n\", lstm_fy2d_aligned.head(1))"
   ]
  },
  {
   "cell_type": "code",
   "execution_count": 15,
   "id": "586ca9ab",
   "metadata": {},
   "outputs": [
    {
     "name": "stdout",
     "output_type": "stream",
     "text": [
      "        date  residual\n",
      "0 2013-03-10  0.000063 \n",
      "         date      residual\n",
      "0 2013-03-10  4.357328e-08 \n",
      "         date  residual\n",
      "0 2013-03-17  -1.47788 \n",
      "         date  residual\n",
      "0 2013-03-14 -0.698613\n"
     ]
    }
   ],
   "source": [
    "print(baseline_saral_df.head(1), \"\\n\", arima_saral_df.head(1), \"\\n\", xgb_diff_saral_df.head(1), \"\\n\", lstm_saral_df.head(1))"
   ]
  },
  {
   "cell_type": "code",
   "execution_count": 16,
   "id": "f191d08f",
   "metadata": {},
   "outputs": [],
   "source": [
    "xgb_diff_saral_aligned, lstm_saral_aligned, arima_saral_aligned, baseline_saral_aligned = align_to_reference_dates(\n",
    "    xgb_diff_saral_df, lstm_saral_df, arima_saral_df, baseline_saral_df,\n",
    "    date_col=\"date\", strict=True, abs_residual=True\n",
    ")"
   ]
  },
  {
   "cell_type": "code",
   "execution_count": 17,
   "id": "fd020c8b",
   "metadata": {},
   "outputs": [
    {
     "name": "stdout",
     "output_type": "stream",
     "text": [
      "        date      residual\n",
      "0 2013-03-17  1.054134e-07 \n",
      "         date      residual\n",
      "0 2013-03-17  3.410752e-09 \n",
      "         date  residual\n",
      "0 2013-03-17   1.47788 \n",
      "         date  residual\n",
      "0 2013-03-17  0.048934\n"
     ]
    }
   ],
   "source": [
    "print(baseline_saral_aligned.head(1), \"\\n\", arima_saral_aligned.head(1), \"\\n\", xgb_diff_saral_aligned.head(1), \"\\n\", lstm_saral_aligned.head(1))"
   ]
  },
  {
   "cell_type": "code",
   "execution_count": 18,
   "id": "1487b011",
   "metadata": {},
   "outputs": [
    {
     "data": {
      "text/html": [
       "<div>\n",
       "<style scoped>\n",
       "    .dataframe tbody tr th:only-of-type {\n",
       "        vertical-align: middle;\n",
       "    }\n",
       "\n",
       "    .dataframe tbody tr th {\n",
       "        vertical-align: top;\n",
       "    }\n",
       "\n",
       "    .dataframe thead th {\n",
       "        text-align: right;\n",
       "    }\n",
       "</style>\n",
       "<table border=\"1\" class=\"dataframe\">\n",
       "  <thead>\n",
       "    <tr style=\"text-align: right;\">\n",
       "      <th></th>\n",
       "      <th>date</th>\n",
       "      <th>residual</th>\n",
       "    </tr>\n",
       "  </thead>\n",
       "  <tbody>\n",
       "    <tr>\n",
       "      <th>0</th>\n",
       "      <td>2013-03-17</td>\n",
       "      <td>0.048934</td>\n",
       "    </tr>\n",
       "    <tr>\n",
       "      <th>1</th>\n",
       "      <td>2013-03-18</td>\n",
       "      <td>0.000246</td>\n",
       "    </tr>\n",
       "    <tr>\n",
       "      <th>2</th>\n",
       "      <td>2013-03-20</td>\n",
       "      <td>0.002003</td>\n",
       "    </tr>\n",
       "    <tr>\n",
       "      <th>3</th>\n",
       "      <td>2013-03-21</td>\n",
       "      <td>0.000851</td>\n",
       "    </tr>\n",
       "    <tr>\n",
       "      <th>4</th>\n",
       "      <td>2013-03-22</td>\n",
       "      <td>0.002010</td>\n",
       "    </tr>\n",
       "  </tbody>\n",
       "</table>\n",
       "</div>"
      ],
      "text/plain": [
       "        date  residual\n",
       "0 2013-03-17  0.048934\n",
       "1 2013-03-18  0.000246\n",
       "2 2013-03-20  0.002003\n",
       "3 2013-03-21  0.000851\n",
       "4 2013-03-22  0.002010"
      ]
     },
     "execution_count": 18,
     "metadata": {},
     "output_type": "execute_result"
    }
   ],
   "source": [
    "lstm_saral_aligned.head()"
   ]
  },
  {
   "cell_type": "markdown",
   "id": "aa0f0986",
   "metadata": {},
   "source": [
    "## man align with res abs"
   ]
  },
  {
   "cell_type": "code",
   "execution_count": 19,
   "id": "c9d6463e",
   "metadata": {},
   "outputs": [],
   "source": [
    "man_dates_s3a = pd.to_datetime(man_s3a[\"median_day_time\"])\n",
    "man_dates_s3a = man_dates_s3a.sort_values()\n",
    "\n",
    "man_dates_fy2d = pd.to_datetime(man_fy2d[\"median_day_time\"])\n",
    "man_dates_fy2d = man_dates_fy2d.sort_values()\n",
    "\n",
    "man_dates_saral = pd.to_datetime(man_saral[\"median_day_time\"])\n",
    "man_dates_saral = man_dates_saral.sort_values()"
   ]
  },
  {
   "cell_type": "code",
   "execution_count": 20,
   "id": "53fbd7a4",
   "metadata": {},
   "outputs": [],
   "source": [
    "man_dates_s3a = man_dates_s3a[6:-1]\n",
    "man_dates_fy2d = man_dates_fy2d.copy()\n",
    "man_dates_saral = man_dates_saral[7:-1]"
   ]
  },
  {
   "cell_type": "markdown",
   "id": "672d4308",
   "metadata": {},
   "source": [
    "## threshold"
   ]
  },
  {
   "cell_type": "code",
   "execution_count": 21,
   "id": "914ed48a",
   "metadata": {},
   "outputs": [],
   "source": [
    "def convert_timestamp_series_to_epoch(series):\n",
    "    return (\n",
    "        (series - pd.Timestamp(year=1970, month=1, day=1)) // pd.Timedelta(seconds=1)\n",
    "    ).values"
   ]
  },
  {
   "cell_type": "code",
   "execution_count": 22,
   "id": "46fd0725",
   "metadata": {},
   "outputs": [],
   "source": [
    "def compute_simple_matching_precision_recall_for_one_threshold(\n",
    "    matching_max_days,\n",
    "    threshold,\n",
    "    series_ground_truth_manoeuvre_timestamps,\n",
    "    series_predictions,\n",
    "):\n",
    "    matching_max_distance_seconds = pd.Timedelta(days=matching_max_days).total_seconds()\n",
    "    dict_predictions_to_ground_truth = {}\n",
    "    dict_ground_truth_to_predictions = {}\n",
    "\n",
    "    manoeuvre_timestamps_seconds = convert_timestamp_series_to_epoch(series_ground_truth_manoeuvre_timestamps)\n",
    "    pred_time_stamps_seconds = convert_timestamp_series_to_epoch(series_predictions.index)\n",
    "    predictions = series_predictions.to_numpy()\n",
    "\n",
    "    for i in range(predictions.shape[0]):\n",
    "        if predictions[i] >= threshold:\n",
    "            left_index = np.searchsorted(\n",
    "                manoeuvre_timestamps_seconds, pred_time_stamps_seconds[i]\n",
    "            )\n",
    "\n",
    "            if left_index != 0:\n",
    "                left_index -= 1\n",
    "\n",
    "            index_of_closest = left_index\n",
    "\n",
    "            if (left_index < len(series_ground_truth_manoeuvre_timestamps) - 1) and (\n",
    "                abs(manoeuvre_timestamps_seconds[left_index] - pred_time_stamps_seconds[i])\n",
    "                > abs(manoeuvre_timestamps_seconds[left_index + 1] - pred_time_stamps_seconds[i])\n",
    "            ):\n",
    "                index_of_closest = left_index + 1\n",
    "\n",
    "            diff = abs(manoeuvre_timestamps_seconds[index_of_closest] - pred_time_stamps_seconds[i])\n",
    "\n",
    "            if diff < matching_max_distance_seconds:\n",
    "                dict_predictions_to_ground_truth[i] = (index_of_closest, diff)\n",
    "                if index_of_closest in dict_ground_truth_to_predictions:\n",
    "                    dict_ground_truth_to_predictions[index_of_closest].append(i)\n",
    "                else:\n",
    "                    dict_ground_truth_to_predictions[index_of_closest] = [i]\n",
    "\n",
    "    positive_prediction_indices = np.argwhere(predictions >= threshold)[:, 0]\n",
    "    list_false_positives = [\n",
    "        pred_ind for pred_ind in positive_prediction_indices if pred_ind not in dict_predictions_to_ground_truth\n",
    "    ]\n",
    "    list_false_negatives = [\n",
    "        true_ind for true_ind in np.arange(0, len(series_ground_truth_manoeuvre_timestamps))\n",
    "        if true_ind not in dict_ground_truth_to_predictions\n",
    "    ]\n",
    "\n",
    "    precision = len(dict_ground_truth_to_predictions) / (len(dict_ground_truth_to_predictions) + len(list_false_positives)) if (len(dict_ground_truth_to_predictions) + len(list_false_positives)) > 0 else 0.0\n",
    "    recall = len(dict_ground_truth_to_predictions) / (len(dict_ground_truth_to_predictions) + len(list_false_negatives)) if (len(dict_ground_truth_to_predictions) + len(list_false_negatives)) > 0 else 0.0\n",
    "\n",
    "    return (precision, recall)"
   ]
  },
  {
   "cell_type": "code",
   "execution_count": 23,
   "id": "9cb0357e",
   "metadata": {},
   "outputs": [],
   "source": [
    "s3a_baseline_thresholds = np.sort(baseline_s3a_aligned['residual'].unique()) # np.linspace(6e-9, 6e-5, 1000)\n",
    "\n",
    "# Compute LSTM PR curves for 3, 4, and 5 day windows\n",
    "s3a_baseline_precision_3d, s3a_baseline_recall_3d = [], []\n",
    "\n",
    "for threshold in s3a_baseline_thresholds:\n",
    "    \n",
    "    # 2-day\n",
    "    p, r = compute_simple_matching_precision_recall_for_one_threshold(\n",
    "        matching_max_days=3.0,\n",
    "        threshold=threshold,\n",
    "        series_ground_truth_manoeuvre_timestamps=man_dates_s3a,\n",
    "        series_predictions=baseline_s3a_aligned.set_index(\"date\")[\"residual\"]\n",
    "    )\n",
    "    s3a_baseline_precision_3d.append(p)\n",
    "    s3a_baseline_recall_3d.append(r)\n",
    "    \n",
    "    \n",
    "s3a_arima_thresholds = np.sort(arima_s3a_aligned['residual'].unique()) # np.linspace(6e-9, 6e-5, 1000)\n",
    "\n",
    "# Compute LSTM PR curves for 3, 4, and 5 day windows\n",
    "s3a_arima_precision_3d, s3a_arima_recall_3d = [], []\n",
    "\n",
    "for threshold in s3a_arima_thresholds:\n",
    "    \n",
    "    # 2-day\n",
    "    p, r = compute_simple_matching_precision_recall_for_one_threshold(\n",
    "        matching_max_days=3.0,\n",
    "        threshold=threshold,\n",
    "        series_ground_truth_manoeuvre_timestamps=man_dates_s3a,\n",
    "        series_predictions=arima_s3a_aligned.set_index(\"date\")[\"residual\"]\n",
    "    )\n",
    "    s3a_arima_precision_3d.append(p)\n",
    "    s3a_arima_recall_3d.append(r)\n",
    "    \n",
    "s3a_xgb_diff_thresholds = np.sort(xgb_diff_s3a_aligned['residual'].unique()) # np.linspace(6e-9, 6e-5, 1000)\n",
    "\n",
    "# Compute LSTM PR curves for 3, 4, and 5 day windows\n",
    "s3a_xgb_diff_precision_3d, s3a_xgb_diff_recall_3d = [], []\n",
    "\n",
    "for threshold in s3a_xgb_diff_thresholds:\n",
    "    \n",
    "    # 2-day\n",
    "    p, r = compute_simple_matching_precision_recall_for_one_threshold(\n",
    "        matching_max_days=3.0,\n",
    "        threshold=threshold,\n",
    "        series_ground_truth_manoeuvre_timestamps=man_dates_s3a,\n",
    "        series_predictions=xgb_diff_s3a_aligned.set_index(\"date\")[\"residual\"]\n",
    "    )\n",
    "    s3a_xgb_diff_precision_3d.append(p)\n",
    "    s3a_xgb_diff_recall_3d.append(r)\n",
    "    \n",
    "s3a_lstm_thresholds = np.sort(lstm_s3a_aligned['residual'].unique()) # np.linspace(6e-9, 6e-5, 1000)\n",
    "\n",
    "# Compute LSTM PR curves for 3, 4, and 5 day windows\n",
    "s3a_lstm_precision_3d, s3a_lstm_recall_3d = [], []\n",
    "\n",
    "for threshold in s3a_lstm_thresholds:\n",
    "    \n",
    "    # 2-day\n",
    "    p, r = compute_simple_matching_precision_recall_for_one_threshold(\n",
    "        matching_max_days=3.0,\n",
    "        threshold=threshold,\n",
    "        series_ground_truth_manoeuvre_timestamps=man_dates_s3a,\n",
    "        series_predictions=lstm_s3a_aligned.set_index(\"date\")[\"residual\"]\n",
    "    )\n",
    "    s3a_lstm_precision_3d.append(p)\n",
    "    s3a_lstm_recall_3d.append(r)"
   ]
  },
  {
   "cell_type": "code",
   "execution_count": 24,
   "id": "d42741b6",
   "metadata": {},
   "outputs": [],
   "source": [
    "fy2d_baseline_thresholds = np.sort(baseline_fy2d_aligned['residual'].unique()) # np.linspace(6e-9, 6e-5, 1000)\n",
    "\n",
    "# Compute LSTM PR curves for 3, 4, and 5 day windows\n",
    "fy2d_baseline_precision_3d, fy2d_baseline_recall_3d = [], []\n",
    "\n",
    "for threshold in fy2d_baseline_thresholds:\n",
    "    \n",
    "    # 2-day\n",
    "    p, r = compute_simple_matching_precision_recall_for_one_threshold(\n",
    "        matching_max_days=3.0,\n",
    "        threshold=threshold,\n",
    "        series_ground_truth_manoeuvre_timestamps=man_dates_fy2d,\n",
    "        series_predictions=baseline_fy2d_aligned.set_index(\"date\")[\"residual\"]\n",
    "    )\n",
    "    fy2d_baseline_precision_3d.append(p)\n",
    "    fy2d_baseline_recall_3d.append(r)\n",
    "    \n",
    "    \n",
    "fy2d_arima_thresholds = np.sort(arima_fy2d_aligned['residual'].unique()) # np.linspace(6e-9, 6e-5, 1000)\n",
    "\n",
    "# Compute LSTM PR curves for 3, 4, and 5 day windows\n",
    "fy2d_arima_precision_3d, fy2d_arima_recall_3d = [], []\n",
    "\n",
    "for threshold in fy2d_arima_thresholds:\n",
    "    \n",
    "    # 2-day\n",
    "    p, r = compute_simple_matching_precision_recall_for_one_threshold(\n",
    "        matching_max_days=3.0,\n",
    "        threshold=threshold,\n",
    "        series_ground_truth_manoeuvre_timestamps=man_dates_fy2d,\n",
    "        series_predictions=arima_fy2d_aligned.set_index(\"date\")[\"residual\"]\n",
    "    )\n",
    "    fy2d_arima_precision_3d.append(p)\n",
    "    fy2d_arima_recall_3d.append(r)\n",
    "    \n",
    "fy2d_xgb_diff_thresholds = np.sort(xgb_diff_fy2d_aligned['residual'].unique()) # np.linspace(6e-9, 6e-5, 1000)\n",
    "\n",
    "# Compute LSTM PR curves for 3, 4, and 5 day windows\n",
    "fy2d_xgb_diff_precision_3d, fy2d_xgb_diff_recall_3d = [], []\n",
    "\n",
    "for threshold in fy2d_xgb_diff_thresholds:\n",
    "    \n",
    "    # 2-day\n",
    "    p, r = compute_simple_matching_precision_recall_for_one_threshold(\n",
    "        matching_max_days=3.0,\n",
    "        threshold=threshold,\n",
    "        series_ground_truth_manoeuvre_timestamps=man_dates_fy2d,\n",
    "        series_predictions=xgb_diff_fy2d_aligned.set_index(\"date\")[\"residual\"]\n",
    "    )\n",
    "    fy2d_xgb_diff_precision_3d.append(p)\n",
    "    fy2d_xgb_diff_recall_3d.append(r)\n",
    "    \n",
    "fy2d_lstm_thresholds = np.sort(lstm_fy2d_aligned['residual'].unique()) # np.linspace(6e-9, 6e-5, 1000)\n",
    "\n",
    "# Compute LSTM PR curves for 3, 4, and 5 day windows\n",
    "fy2d_lstm_precision_3d, fy2d_lstm_recall_3d = [], []\n",
    "\n",
    "for threshold in fy2d_lstm_thresholds:\n",
    "    \n",
    "    # 2-day\n",
    "    p, r = compute_simple_matching_precision_recall_for_one_threshold(\n",
    "        matching_max_days=3.0,\n",
    "        threshold=threshold,\n",
    "        series_ground_truth_manoeuvre_timestamps=man_dates_fy2d,\n",
    "        series_predictions=lstm_fy2d_aligned.set_index(\"date\")[\"residual\"]\n",
    "    )\n",
    "    fy2d_lstm_precision_3d.append(p)\n",
    "    fy2d_lstm_recall_3d.append(r)"
   ]
  },
  {
   "cell_type": "code",
   "execution_count": 25,
   "id": "d64a85f7",
   "metadata": {},
   "outputs": [],
   "source": [
    "saral_baseline_thresholds = np.sort(baseline_saral_aligned['residual'].unique()) # np.linspace(6e-9, 6e-5, 1000)\n",
    "\n",
    "# Compute LSTM PR curves for 3, 4, and 5 day windows\n",
    "saral_baseline_precision_3d, saral_baseline_recall_3d = [], []\n",
    "\n",
    "for threshold in saral_baseline_thresholds:\n",
    "    \n",
    "    # 2-day\n",
    "    p, r = compute_simple_matching_precision_recall_for_one_threshold(\n",
    "        matching_max_days=3.0,\n",
    "        threshold=threshold,\n",
    "        series_ground_truth_manoeuvre_timestamps=man_dates_saral,\n",
    "        series_predictions=baseline_saral_aligned.set_index(\"date\")[\"residual\"]\n",
    "    )\n",
    "    saral_baseline_precision_3d.append(p)\n",
    "    saral_baseline_recall_3d.append(r)\n",
    "    \n",
    "    \n",
    "saral_arima_thresholds = np.sort(arima_saral_aligned['residual'].unique()) # np.linspace(6e-9, 6e-5, 1000)\n",
    "\n",
    "# Compute LSTM PR curves for 3, 4, and 5 day windows\n",
    "saral_arima_precision_3d, saral_arima_recall_3d = [], []\n",
    "\n",
    "for threshold in saral_arima_thresholds:\n",
    "    \n",
    "    # 2-day\n",
    "    p, r = compute_simple_matching_precision_recall_for_one_threshold(\n",
    "        matching_max_days=3.0,\n",
    "        threshold=threshold,\n",
    "        series_ground_truth_manoeuvre_timestamps=man_dates_saral,\n",
    "        series_predictions=arima_saral_aligned.set_index(\"date\")[\"residual\"]\n",
    "    )\n",
    "    saral_arima_precision_3d.append(p)\n",
    "    saral_arima_recall_3d.append(r)\n",
    "    \n",
    "saral_xgb_diff_thresholds = np.sort(xgb_diff_saral_aligned['residual'].unique()) # np.linspace(6e-9, 6e-5, 1000)\n",
    "\n",
    "# Compute LSTM PR curves for 3, 4, and 5 day windows\n",
    "saral_xgb_diff_precision_3d, saral_xgb_diff_recall_3d = [], []\n",
    "\n",
    "for threshold in saral_xgb_diff_thresholds:\n",
    "    \n",
    "    # 2-day\n",
    "    p, r = compute_simple_matching_precision_recall_for_one_threshold(\n",
    "        matching_max_days=3.0,\n",
    "        threshold=threshold,\n",
    "        series_ground_truth_manoeuvre_timestamps=man_dates_saral,\n",
    "        series_predictions=xgb_diff_saral_aligned.set_index(\"date\")[\"residual\"]\n",
    "    )\n",
    "    saral_xgb_diff_precision_3d.append(p)\n",
    "    saral_xgb_diff_recall_3d.append(r)\n",
    "    \n",
    "saral_lstm_thresholds = np.sort(lstm_saral_aligned['residual'].unique()) # np.linspace(6e-9, 6e-5, 1000)\n",
    "\n",
    "# Compute LSTM PR curves for 3, 4, and 5 day windows\n",
    "saral_lstm_precision_3d, saral_lstm_recall_3d = [], []\n",
    "\n",
    "for threshold in saral_lstm_thresholds:\n",
    "    \n",
    "    # 2-day\n",
    "    p, r = compute_simple_matching_precision_recall_for_one_threshold(\n",
    "        matching_max_days=3.0,\n",
    "        threshold=threshold,\n",
    "        series_ground_truth_manoeuvre_timestamps=man_dates_saral,\n",
    "        series_predictions=lstm_saral_aligned.set_index(\"date\")[\"residual\"]\n",
    "    )\n",
    "    saral_lstm_precision_3d.append(p)\n",
    "    saral_lstm_recall_3d.append(r)"
   ]
  },
  {
   "cell_type": "markdown",
   "id": "da50af78",
   "metadata": {},
   "source": [
    "### F1"
   ]
  },
  {
   "cell_type": "code",
   "execution_count": 26,
   "id": "0dd50f62",
   "metadata": {},
   "outputs": [],
   "source": [
    "def find_best_f1(thresholds, precision_list, recall_list):\n",
    "    f1_scores = [2 * (p * r) / (p + r) if (p + r) > 0 else 0.0 for p, r in zip(precision_list, recall_list)]\n",
    "    max_index = int(np.argmax(f1_scores))\n",
    "    return (\n",
    "        thresholds[max_index],      # \n",
    "        f1_scores[max_index],       # \n",
    "        precision_list[max_index],  # \n",
    "        recall_list[max_index]      # \n",
    "    )"
   ]
  },
  {
   "cell_type": "code",
   "execution_count": 27,
   "id": "535e758d",
   "metadata": {},
   "outputs": [],
   "source": [
    "import numpy as np\n",
    "import matplotlib.pyplot as plt\n",
    "\n",
    "# \n",
    "def clean_pr(recall, precision, thresholds=None, drop_last=True, clip_max=0.995,\n",
    "             enforce_monotone=True):\n",
    "    r = np.asarray(recall, dtype=float)\n",
    "    p = np.asarray(precision, dtype=float)\n",
    "    t = None if thresholds is None else np.asarray(thresholds, dtype=float)\n",
    "\n",
    "    # \n",
    "    if drop_last and len(r) > 1:\n",
    "        r, p = r[:-1], p[:-1]\n",
    "        if t is not None and len(t) >= len(r):\n",
    "            t = t[:len(r)]\n",
    "\n",
    "    \n",
    "    order = np.argsort(r)\n",
    "    r, p = r[order], p[order]\n",
    "    if t is not None:\n",
    "        t = t[order]\n",
    "\n",
    "    \n",
    "    ur, idx = np.unique(r, return_index=True)\n",
    "    \n",
    "    max_p = []\n",
    "    pick_t = [] if t is not None else None\n",
    "    for i, rr in enumerate(ur):\n",
    "        mask = (r == rr)\n",
    "        p_grp = p[mask]\n",
    "        j = np.argmax(p_grp)\n",
    "        max_p.append(p_grp[j])\n",
    "        if t is not None:\n",
    "            pick_t.append(t[mask][j])\n",
    "    r, p = ur, np.array(max_p)\n",
    "    if t is not None:\n",
    "        t = np.array(pick_t)\n",
    "\n",
    "    \n",
    "    if clip_max is not None:\n",
    "        p = np.clip(p, 0.0, clip_max)\n",
    "\n",
    "    \n",
    "    if enforce_monotone and len(p) > 1:\n",
    "        \n",
    "        p = np.maximum.accumulate(p[::-1])[::-1]\n",
    "\n",
    "    return r, p, t\n",
    "\n",
    "from matplotlib.colors import to_rgba_array\n",
    "\n",
    "def best_fbeta_idx(precision, recall, beta=1.0):\n",
    "    p = np.asarray(precision, dtype=float)\n",
    "    r = np.asarray(recall, dtype=float)\n",
    "    beta2 = beta * beta\n",
    "    denom = beta2 * p + r\n",
    "    f = np.where(denom > 0, (1 + beta2) * p * r / denom, 0.0)\n",
    "    m = np.nanmax(f)\n",
    "    cand = np.flatnonzero(f == m)\n",
    "    \n",
    "    cand = cand[np.argmax(r[cand])] if len(cand) > 1 else int(cand[0])\n",
    "    return cand, f\n",
    "\n",
    "def plot_pr_multi(\n",
    "    ax,\n",
    "    series,\n",
    "    step=True,\n",
    "    show_best=True,\n",
    "    beta=1.0,\n",
    "    marker_size=60,\n",
    "    legend_loc=\"lower left\",\n",
    "    legend_fontsize=10,\n",
    "    xlim=(0.15, 1.05),\n",
    "    ylim=(0.15, 1.05),\n",
    "    title=None,\n",
    "    use_safe_colors=True,\n",
    "):\n",
    "    \n",
    "    if use_safe_colors:\n",
    "        all_colors = to_rgba_array(plt.cm.tab10.colors)\n",
    "        safe_colors = [\n",
    "            c for c in all_colors\n",
    "            if not (\n",
    "                (c[0] > 0.7 and c[1] < 0.3 and c[2] < 0.3)  \n",
    "                or (c[0] < 0.3 and c[1] > 0.6 and c[2] < 0.3)  \n",
    "            )\n",
    "        ]\n",
    "        \n",
    "        for i, s in enumerate(series):\n",
    "            s['color'] = safe_colors[i % len(safe_colors)]\n",
    "\n",
    "    ds = \"steps-post\" if step else None\n",
    "    handles = []\n",
    "    used_positions = []  \n",
    "\n",
    "    for i, s in enumerate(series):\n",
    "        r, p, _ = clean_pr(s['recall'], s['precision'], s.get('thresholds'))\n",
    "        line, = ax.plot(\n",
    "            r, p, lw=2, label=s['label'], drawstyle=ds,\n",
    "            color=s.get('color', None)\n",
    "        )\n",
    "        handles.append(line)\n",
    "\n",
    "        if show_best:\n",
    "            idx, fvals = best_fbeta_idx(p, r, beta=beta)\n",
    "            best_point = (r[idx], p[idx])\n",
    "\n",
    "            \n",
    "            offset_x, offset_y = -15, -15\n",
    "            for prev_x, prev_y in used_positions:\n",
    "                if abs(prev_x - best_point[0]) < 0.05 and abs(prev_y - best_point[1]) < 0.05:\n",
    "                    offset_y += 20  \n",
    "                    offset_x += 15\n",
    "\n",
    "            used_positions.append(best_point)\n",
    "\n",
    "            ax.scatter(*best_point, s=marker_size, zorder=5, color=line.get_color())\n",
    "\n",
    "            # ax.annotate(\n",
    "            #     f\"F{beta:.0f}={fvals[idx]:.2f}\",\n",
    "            #     best_point,\n",
    "            #     xytext=(offset_x, offset_y),\n",
    "            #     textcoords=\"offset points\",\n",
    "            #     fontsize=9,\n",
    "            #     bbox=dict(boxstyle=\"round,pad=0.2\", fc=\"white\", alpha=0.7)\n",
    "            # )\n",
    "\n",
    "    ax.set_xlabel(\"Recall\")\n",
    "    ax.set_ylabel(\"Precision\")\n",
    "    ax.set_xlim(*xlim)\n",
    "    ax.set_ylim(*ylim)\n",
    "    ax.grid(True, linestyle=\"--\", alpha=0.5)\n",
    "    ax.legend(loc=legend_loc, fontsize=legend_fontsize)\n",
    "    if title:\n",
    "        ax.set_title(title)\n",
    "\n",
    "    return handles"
   ]
  },
  {
   "cell_type": "code",
   "execution_count": 28,
   "id": "9e22aa86",
   "metadata": {},
   "outputs": [
    {
     "data": {
      "image/png": "[encoded data removed]",
      "text/plain": [
       "<Figure size 700x600 with 1 Axes>"
      ]
     },
     "metadata": {},
     "output_type": "display_data"
    }
   ],
   "source": [
    "fig, ax = plt.subplots(figsize=(7, 6))\n",
    "plot_pr_multi(\n",
    "    ax,\n",
    "    [\n",
    "        {'recall': s3a_baseline_recall_3d, 'precision': s3a_baseline_precision_3d, 'label': 'S3A-Baseline'},\n",
    "        {'recall': s3a_arima_recall_3d,    'precision': s3a_arima_precision_3d,    'label': 'S3A-ARIMA'},\n",
    "        {'recall': s3a_xgb_diff_recall_3d, 'precision': s3a_xgb_diff_precision_3d, 'label': 'S3A-XGB-diff'},\n",
    "        {'recall': s3a_lstm_recall_3d,     'precision': s3a_lstm_precision_3d,     'label': 'S3A-LSTM'}\n",
    "    ],\n",
    "    use_safe_colors=True,\n",
    "    beta=2.0, show_best=True\n",
    ")\n",
    "plt.show()"
   ]
  },
  {
   "cell_type": "code",
   "execution_count": 29,
   "id": "aa2aa282",
   "metadata": {},
   "outputs": [
    {
     "data": {
      "image/png": "[encoded data removed]",
      "text/plain": [
       "<Figure size 700x600 with 1 Axes>"
      ]
     },
     "metadata": {},
     "output_type": "display_data"
    }
   ],
   "source": [
    "fig, ax = plt.subplots(figsize=(7, 6))\n",
    "plot_pr_multi(\n",
    "    ax,\n",
    "    [\n",
    "        {'recall': fy2d_baseline_recall_3d, 'precision': fy2d_baseline_precision_3d, 'label': 'FY2D-Baseline'},\n",
    "        {'recall': fy2d_arima_recall_3d,    'precision': fy2d_arima_precision_3d,    'label': 'FY2D-ARIMA'},\n",
    "        {'recall': fy2d_xgb_diff_recall_3d, 'precision': fy2d_xgb_diff_precision_3d, 'label': 'FY2D-XGB-diff'},\n",
    "        {'recall': fy2d_lstm_recall_3d,     'precision': fy2d_lstm_precision_3d,     'label': 'FY2D-LSTM'}\n",
    "    ],\n",
    "    use_safe_colors=True, show_best=True, beta=2.0\n",
    ")\n",
    "plt.show()"
   ]
  },
  {
   "cell_type": "code",
   "execution_count": 30,
   "id": "0953cbd2",
   "metadata": {},
   "outputs": [
    {
     "data": {
      "image/png": "[encoded data removed]",
      "text/plain": [
       "<Figure size 700x600 with 1 Axes>"
      ]
     },
     "metadata": {},
     "output_type": "display_data"
    }
   ],
   "source": [
    "fig, ax = plt.subplots(figsize=(7, 6))\n",
    "plot_pr_multi(\n",
    "    ax,\n",
    "    [\n",
    "        {'recall': saral_baseline_recall_3d, 'precision': saral_baseline_precision_3d, 'label': 'SARAL-Baseline'},\n",
    "        {'recall': saral_arima_recall_3d,    'precision': saral_arima_precision_3d,    'label': 'SARAL-ARIMA'},\n",
    "        {'recall': saral_xgb_diff_recall_3d, 'precision': saral_xgb_diff_precision_3d, 'label': 'SARAL-XGB-diff'},\n",
    "        {'recall': saral_lstm_recall_3d,     'precision': saral_lstm_precision_3d,     'label': 'SARAL-LSTM'}\n",
    "    ],\n",
    "    use_safe_colors=True, show_best=True, beta=2.0\n",
    ")\n",
    "plt.show()"
   ]
  }
 ],
 "metadata": {
  "kernelspec": {
   "display_name": "base",
   "language": "python",
   "name": "python3"
  },
  "language_info": {
   "codemirror_mode": {
    "name": "ipython",
    "version": 3
   },
   "file_extension": ".py",
   "mimetype": "text/x-python",
   "name": "python",
   "nbconvert_exporter": "python",
   "pygments_lexer": "ipython3",
   "version": "3.11.5"
  }
 },
 "nbformat": 4,
 "nbformat_minor": 5
}
