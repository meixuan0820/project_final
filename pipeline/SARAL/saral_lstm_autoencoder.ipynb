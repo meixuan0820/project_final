{
 "cells": [
  {
   "cell_type": "markdown",
   "id": "c4f45718",
   "metadata": {},
   "source": [
    "## Load and check"
   ]
  },
  {
   "cell_type": "code",
   "execution_count": 1,
   "id": "4fdc0c66",
   "metadata": {},
   "outputs": [],
   "source": [
    "import pickle"
   ]
  },
  {
   "cell_type": "code",
   "execution_count": 2,
   "id": "4c64df98",
   "metadata": {},
   "outputs": [],
   "source": [
    "with open('/project_final/orbitals.pkl', 'rb') as f:\n",
    "    orbitals = pickle.load(f)\n",
    "\n",
    "with open('/project_final/maneuvers.pkl', 'rb') as f:\n",
    "    maneuvers = pickle.load(f)"
   ]
  },
  {
   "cell_type": "code",
   "execution_count": 3,
   "id": "ab53f017",
   "metadata": {},
   "outputs": [],
   "source": [
    "import pandas as pd\n",
    "import numpy as np\n",
    "import matplotlib.pyplot as plt\n",
    "import seaborn as sns\n",
    "import os\n",
    "from datetime import datetime"
   ]
  },
  {
   "cell_type": "code",
   "execution_count": 4,
   "id": "7ed6cffd",
   "metadata": {},
   "outputs": [],
   "source": [
    "man = maneuvers['srl']"
   ]
  },
  {
   "cell_type": "code",
   "execution_count": 5,
   "id": "5bf018ba",
   "metadata": {},
   "outputs": [],
   "source": [
    "df = orbitals['SARAL.csv'].copy()"
   ]
  },
  {
   "cell_type": "code",
   "execution_count": 6,
   "id": "d09ca912",
   "metadata": {},
   "outputs": [],
   "source": [
    "df.index = pd.to_datetime(df.index)\n",
    "\n",
    "# keep only year-month-day\n",
    "df.index = df.index.normalize()"
   ]
  },
  {
   "cell_type": "markdown",
   "id": "0642ae66",
   "metadata": {},
   "source": [
    "## Modelling"
   ]
  },
  {
   "cell_type": "code",
   "execution_count": 7,
   "id": "87e6d70f",
   "metadata": {},
   "outputs": [],
   "source": [
    "import numpy as np\n",
    "import pandas as pd\n",
    "import matplotlib.pyplot as plt\n",
    "from sklearn.preprocessing import MinMaxScaler\n",
    "from tensorflow.keras.callbacks import EarlyStopping\n",
    "from tensorflow.keras.optimizers import Adam\n",
    "import tensorflow as tf\n",
    "import random\n",
    "from itertools import product\n",
    "from tensorflow.keras.models import Model\n",
    "from tensorflow.keras.layers import Input, LSTM, Dense, RepeatVector, TimeDistributed, Dropout\n",
    "import os"
   ]
  },
  {
   "cell_type": "code",
   "execution_count": 8,
   "id": "5fd46cf4",
   "metadata": {},
   "outputs": [],
   "source": [
    "def set_seed(seed=42):\n",
    "    \n",
    "    os.environ['PYTHONHASHSEED'] = str(seed)\n",
    "    random.seed(seed)\n",
    "    np.random.seed(seed)\n",
    "    tf.random.set_seed(seed)\n",
    "    \n",
    "    os.environ['TF_DETERMINISTIC_OPS'] = '1'"
   ]
  },
  {
   "cell_type": "code",
   "execution_count": 9,
   "id": "f69f6224",
   "metadata": {},
   "outputs": [],
   "source": [
    "def create_windows(data, window_size):\n",
    "    return np.array([data[i:i+window_size] for i in range(len(data) - window_size + 1)])"
   ]
  },
  {
   "cell_type": "code",
   "execution_count": 10,
   "id": "1a28eae4",
   "metadata": {},
   "outputs": [],
   "source": [
    "def create_lstm_autoencoder(window_size, n_features, learning_rate=0.001):\n",
    "    inputs = Input(shape=(window_size, n_features))\n",
    "    encoded = LSTM(64, return_sequences=False)(inputs)\n",
    "    # encoded = Dropout(0.1)(encoded)\n",
    "    encoded = Dense(16, activation='tanh')(encoded)\n",
    "\n",
    "    decoded = RepeatVector(window_size)(encoded)\n",
    "    decoded = LSTM(64, return_sequences=True)(decoded)\n",
    "    decoded = TimeDistributed(Dense(n_features))(decoded)\n",
    "\n",
    "    model = Model(inputs, decoded)\n",
    "    model.compile(optimizer=Adam(learning_rate), loss='mae')\n",
    "    return model"
   ]
  },
  {
   "cell_type": "code",
   "execution_count": 11,
   "id": "9bb706ed",
   "metadata": {},
   "outputs": [],
   "source": [
    "def train_autoencoder_and_get_residual(df, window_size=3, split_ratio=1.0, epochs=20):\n",
    "    data = df['Brouwer mean motion'].values.reshape(-1, 1)\n",
    "    scaler = MinMaxScaler()\n",
    "    scaled_data = scaler.fit_transform(data)\n",
    "\n",
    "    X_all = create_windows(scaled_data, window_size=window_size)\n",
    "\n",
    "    set_seed(42)\n",
    "    model = create_lstm_autoencoder(window_size=window_size, n_features=1)\n",
    "    model.fit(X_all, X_all, epochs=epochs, batch_size=32, shuffle=False, verbose=0)\n",
    "\n",
    "    all_pred = model.predict(X_all)\n",
    "\n",
    "    residual_all = np.mean(np.abs(all_pred - X_all), axis=(1, 2))\n",
    "    # residual_test = np.mean(np.abs(test_pred - X_test), axis=(1, 2))\n",
    "    # residual_all = np.concatenate([residual_train, residual_test])\n",
    "    residual_index = df.index[window_size - 1:]\n",
    "\n",
    "    return residual_all, residual_index"
   ]
  },
  {
   "cell_type": "code",
   "execution_count": 12,
   "id": "906d3bfe",
   "metadata": {},
   "outputs": [],
   "source": [
    "def plot_residual_diagnostics(residual_all, residual_index):\n",
    "    residual_df = pd.DataFrame({'residual': residual_all}, index=residual_index)\n",
    "\n",
    "    fig, ax = plt.subplots(1, 2, figsize=(18, 4.5))\n",
    "\n",
    "    # 1. Time series plot\n",
    "    residual_df['residual'].plot(ax=ax[0], title=\"Residual over Time\")\n",
    "    ax[0].set_ylabel(\"Residual\")\n",
    "\n",
    "    # 2. KDE plot\n",
    "    residual_df['residual'].plot(kind='kde', ax=ax[1], title=\"Residual Density\")\n",
    "    ax[1].set_xlabel(\"Residual Value\")\n",
    "\n",
    "    # # 3. Normal QQ plot\n",
    "    # stats.probplot(residual_df['residual'], dist=\"norm\", plot=ax[2])\n",
    "    # ax[2].set_title(\"Normal Q-Q Plot\")\n",
    "\n",
    "    plt.tight_layout()\n",
    "    plt.show()"
   ]
  },
  {
   "cell_type": "markdown",
   "id": "2d4d00ad",
   "metadata": {},
   "source": [
    "## Implementation"
   ]
  },
  {
   "cell_type": "code",
   "execution_count": 13,
   "id": "dad5baa4",
   "metadata": {},
   "outputs": [],
   "source": [
    "# residual_all, residual_index = train_autoencoder_and_get_residual(df, window_size=3, epochs=30)"
   ]
  },
  {
   "cell_type": "code",
   "execution_count": 14,
   "id": "52b5ced0",
   "metadata": {},
   "outputs": [
    {
     "name": "stdout",
     "output_type": "stream",
     "text": [
      "\u001b[1m103/103\u001b[0m \u001b[32m━━━━━━━━━━━━━━━━━━━━\u001b[0m\u001b[37m\u001b[0m \u001b[1m3s\u001b[0m 19ms/step\n"
     ]
    },
    {
     "data": {
      "image/png": "[encoded data removed]",
      "text/plain": [
       "<Figure size 1800x450 with 2 Axes>"
      ]
     },
     "metadata": {},
     "output_type": "display_data"
    }
   ],
   "source": [
    "residual_all, residual_index = train_autoencoder_and_get_residual(\n",
    "    df, window_size=3, epochs=30\n",
    ")\n",
    "plot_residual_diagnostics(residual_all, residual_index)\n",
    "\n",
    "residual_df = pd.DataFrame({'timestamp': residual_index, 'residual': residual_all})"
   ]
  },
  {
   "cell_type": "code",
   "execution_count": 15,
   "id": "facf0e70",
   "metadata": {},
   "outputs": [],
   "source": [
    "# data = df['Brouwer mean motion'].values.reshape(-1, 1)"
   ]
  },
  {
   "cell_type": "code",
   "execution_count": 16,
   "id": "2da68bf5",
   "metadata": {},
   "outputs": [],
   "source": [
    "# residual_actual = residual_all * (data.max() - data.min())"
   ]
  },
  {
   "cell_type": "code",
   "execution_count": 17,
   "id": "4406c0d4",
   "metadata": {},
   "outputs": [],
   "source": [
    "# residual_actual"
   ]
  },
  {
   "cell_type": "markdown",
   "id": "f3f2020d",
   "metadata": {},
   "source": [
    "## save residuals"
   ]
  },
  {
   "cell_type": "code",
   "execution_count": 18,
   "id": "d7701c2f",
   "metadata": {},
   "outputs": [],
   "source": [
    "residual_df = pd.DataFrame({\n",
    "        'timestamp': residual_index,\n",
    "        'residual': residual_all\n",
    "    })"
   ]
  },
  {
   "cell_type": "code",
   "execution_count": 19,
   "id": "5dc9ab46",
   "metadata": {},
   "outputs": [],
   "source": [
    "residual_df.to_csv(\"/project_final/result/saral_lstm_autoencoder_residuals.csv\", index=False)"
   ]
  }
 ],
 "metadata": {
  "kernelspec": {
   "display_name": "base",
   "language": "python",
   "name": "python3"
  },
  "language_info": {
   "codemirror_mode": {
    "name": "ipython",
    "version": 3
   },
   "file_extension": ".py",
   "mimetype": "text/x-python",
   "name": "python",
   "nbconvert_exporter": "python",
   "pygments_lexer": "ipython3",
   "version": "3.11.5"
  }
 },
 "nbformat": 4,
 "nbformat_minor": 5
}
